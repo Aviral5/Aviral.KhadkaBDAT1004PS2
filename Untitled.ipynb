{
 "cells": [
  {
   "cell_type": "markdown",
   "id": "faf96fd2",
   "metadata": {},
   "source": [
    "# Question 1 \n",
    "Consider the following Python module:\n",
    "a = 0 \n",
    "def b():\n",
    "lobal a\n",
    "a = c(a)\n",
    "def c(a):\n",
    "return a + 2\n",
    "After importing the module into the interpreter, you execute:>>> b()>>> b()>>> b()>>> a?What value is displayed when the last expression (a) is evaluated? Explain youranswer by indicating what happens in every executed statement.\n"
   ]
  },
  {
   "cell_type": "code",
   "execution_count": 1,
   "id": "ccbbf593",
   "metadata": {},
   "outputs": [
    {
     "data": {
      "text/plain": [
       "6"
      ]
     },
     "execution_count": 1,
     "metadata": {},
     "output_type": "execute_result"
    }
   ],
   "source": [
    "a=0\n",
    "def b():\n",
    "    global a\n",
    "    a=c(a)\n",
    "def c(a):\n",
    "    return a+2\n",
    "b()#calling function c where 2 is added to the global variable a and here a value is 2\n",
    "b()#again above process now a value is 4\n",
    "b()#now value is 6\n",
    "a"
   ]
  },
  {
   "cell_type": "markdown",
   "id": "8848028c",
   "metadata": {},
   "source": [
    "# Question 2\n",
    "\n",
    "Function fileLength(), given to you, takes the name of a file as input and returnsthe length of the file:>>> fileLength('midterm.py')284 >>> fileLength('idterm.py')\n",
    "Traceback (most recent call last):8File \"<pyshell#34>\", line 1, in <module>\n",
    "    fileLength('idterm.py')\n",
    "    File \"/Users/me/midterm.py\", line 3, in fileLength\n",
    "    infile = open(filename)\n",
    "    FileNotFoundError: [Errno 2] No such file or directory:\n",
    "    'idterm.py'\n",
    "    As shown above, if the file cannot be found by the interpreter or if it cannot be readas a text file, an exception will be raised. Modify function fileLength() so that afriendly message is printed instead:\n",
    "    >>> fileLength('midterm.py')\n",
    "    358 >>> fileLength('idterm.py')File idterm.py not found.\n",
    "    "
   ]
  },
  {
   "cell_type": "code",
   "execution_count": 1,
   "id": "cc8040d6",
   "metadata": {},
   "outputs": [
    {
     "name": "stdout",
     "output_type": "stream",
     "text": [
      "123\n"
     ]
    }
   ],
   "source": [
    "def fileLength(file_name):\n",
    "    try:\n",
    "        with open(file_name,'r') as f:\n",
    "            print(len(f.read()))\n",
    "    except FileNotFoundError:\n",
    "        print('File '+file_name+'is not found');\n",
    "\n",
    "fileLength('Filelength.txt')\n"
   ]
  },
  {
   "cell_type": "code",
   "execution_count": 2,
   "id": "cc5c20c6",
   "metadata": {},
   "outputs": [
    {
     "name": "stdout",
     "output_type": "stream",
     "text": [
      "File midterm.pyis not found\n"
     ]
    }
   ],
   "source": [
    "fileLength('midterm.py')\n"
   ]
  },
  {
   "cell_type": "markdown",
   "id": "5b0bb112",
   "metadata": {},
   "source": [
    "## Question 3\n",
    "Write a class named Marsupial that can be used as shown below: >>> m = Marsupial() >>> m.put_in_pouch('doll')>>> m.put_in_pouch('firetruck')>>> m.put_in_pouch('kitten')>> m.pouch_contents()['doll', 'firetruck', 'kitten']\n",
    "Now write a class named Kangaroo as a subclass of Marsupial that inherits all theattributes of Marsupial and also:\n",
    "a. extends the Marsupial __init__ constructor to take, as input, thecoordinates x and y of the Kangaroo object,\n",
    "b. supports method jump that takes number values dx and dy as input andmoves the kangaroo by dx units along the x-axis and by dy units along the y-axis, and\n",
    "c. overloads the __str__ operator so it behaves as shown below.>>> k = Kangaroo(0,0)>>> print(k)\n",
    "I am a Kangaroo located at coordinates (0,0)>>> k.put_in_pouch('doll')>>> k.put_in_pouch('firetruck')>>> k.put_in_pouch('kitten')>>> k.pouch_contents()['doll', 'firetruck', 'kitten']>>> k.jump(1,0)>>> k.jump(1,0)>>> k.jump(1,0)>>> print(k)I am a Kangaroo located at coordinates (3,0)"
   ]
  },
  {
   "cell_type": "code",
   "execution_count": 3,
   "id": "079de160",
   "metadata": {},
   "outputs": [
    {
     "name": "stdout",
     "output_type": "stream",
     "text": [
      "['doll', 'firetruck', 'kitten']\n"
     ]
    }
   ],
   "source": [
    "class Marsupial:\n",
    "    pouch_list = []\n",
    "    def put_in_pouch(self,name):\n",
    "        self.pouch_list.append(name)\n",
    "        \n",
    "    def pouch_contents(self):\n",
    "        print(self.pouch_list)\n",
    "m = Marsupial()\n",
    "m.put_in_pouch('doll')\n",
    "m.put_in_pouch('firetruck')\n",
    "m.put_in_pouch('kitten')\n",
    "m.pouch_contents()\n",
    "            "
   ]
  },
  {
   "cell_type": "code",
   "execution_count": 4,
   "id": "a405a3cc",
   "metadata": {},
   "outputs": [
    {
     "name": "stdout",
     "output_type": "stream",
     "text": [
      "I am a Kangaroo located at coordinates (0,0)\n",
      "['doll', 'firetruck', 'kitten']\n",
      "I am a Kangaroo located at coordinates (3,0)\n"
     ]
    }
   ],
   "source": [
    "class Marsupial:\n",
    "    \n",
    "    def __init__(self,x,y):\n",
    "        self.dx=x\n",
    "        self.dy=y\n",
    "    pouch_list=[]\n",
    "    def put_in_pouch(self,name):\n",
    "        self.pouch_list.append(name)\n",
    "        \n",
    "    def pouch_contents(self):\n",
    "        print(self.pouch_list)\n",
    "\n",
    "class Kangaroo(Marsupial):\n",
    "    \n",
    "    def __init__(self,x,y):\n",
    "        Marsupial.__init__(self,x,y)\n",
    "        \n",
    "    def jump(self,x,y):\n",
    "        self.dx=self.dx+x\n",
    "        self.dy=self.dy+y\n",
    "        \n",
    "        \n",
    "    def __str__(self):\n",
    "        return \"I am a Kangaroo located at coordinates (\"+str(self.dx)+\",\"+str(self.dy)+\")\"\n",
    "    \n",
    "k = Kangaroo(0,0)\n",
    "print(k)\n",
    "k.put_in_pouch('doll')\n",
    "k.put_in_pouch('firetruck')\n",
    "k.put_in_pouch('kitten')\n",
    "k.pouch_contents()\n",
    "k.jump(1,0)\n",
    "k.jump(1,0)\n",
    "k.jump(1,0)\n",
    "print(k)"
   ]
  },
  {
   "cell_type": "markdown",
   "id": "cad4b7f4",
   "metadata": {},
   "source": [
    "# Question 4\n",
    "Write function collatz() that takes a positive integer x as input and prints theCollatz sequence starting at x. A Collatz sequence is obtained by repeatedly applyingthis rule to the previous number x in the sequence:x = { 𝑥/2 𝑖𝑓 𝑥 𝑖𝑠 𝑒𝑣𝑒𝑛3𝑥 + 1 𝑖𝑓 𝑥 𝑖𝑠 𝑜𝑑𝑑Your function should stop when the sequence gets to number 1. Yourimplementation must be recursive, without any loops >>> collatz(1)1>>> collatz(10)105168421"
   ]
  },
  {
   "cell_type": "code",
   "execution_count": 9,
   "id": "117be846",
   "metadata": {},
   "outputs": [],
   "source": [
    "def collatz(num):\n",
    "    if num%2==0:\n",
    "        print(num)\n",
    "        collatz(int(num/2))\n",
    "    elif num==1:\n",
    "        print(num)\n",
    "    else:\n",
    "        print(num)\n",
    "        collatz(num+1)\n",
    "                "
   ]
  },
  {
   "cell_type": "code",
   "execution_count": 10,
   "id": "31f03e8b",
   "metadata": {},
   "outputs": [
    {
     "name": "stdout",
     "output_type": "stream",
     "text": [
      "1\n"
     ]
    }
   ],
   "source": [
    "collatz(1)"
   ]
  },
  {
   "cell_type": "code",
   "execution_count": 11,
   "id": "755e1860",
   "metadata": {},
   "outputs": [
    {
     "name": "stdout",
     "output_type": "stream",
     "text": [
      "10\n",
      "5\n",
      "6\n",
      "3\n",
      "4\n",
      "2\n",
      "1\n"
     ]
    }
   ],
   "source": [
    "collatz(10)"
   ]
  },
  {
   "cell_type": "markdown",
   "id": "853f74ba",
   "metadata": {},
   "source": [
    "# Question5\n",
    "\n",
    "Write a recursive method binary() that takes a non-negativeinteger n and prints the binary representation of integer n.>>> binary(0)0>>> binary(1)1>>> binary(3)11>>> binary(9)1001"
   ]
  },
  {
   "cell_type": "code",
   "execution_count": 12,
   "id": "2fa64b71",
   "metadata": {},
   "outputs": [],
   "source": [
    "def binary(num):\n",
    "    if(num>0):\n",
    "        x=num%2\n",
    "        num=int(num/2)\n",
    "        return int (str(binary(num))+str(x))\n",
    "    else:\n",
    "        return 0\n",
    "    \n"
   ]
  },
  {
   "cell_type": "code",
   "execution_count": 15,
   "id": "de48adf9",
   "metadata": {},
   "outputs": [
    {
     "data": {
      "text/plain": [
       "0"
      ]
     },
     "execution_count": 15,
     "metadata": {},
     "output_type": "execute_result"
    }
   ],
   "source": [
    " binary(0)"
   ]
  },
  {
   "cell_type": "code",
   "execution_count": 13,
   "id": "eaa03a48",
   "metadata": {},
   "outputs": [
    {
     "data": {
      "text/plain": [
       "1"
      ]
     },
     "execution_count": 13,
     "metadata": {},
     "output_type": "execute_result"
    }
   ],
   "source": [
    "binary(1)"
   ]
  },
  {
   "cell_type": "code",
   "execution_count": 14,
   "id": "ead402ee",
   "metadata": {},
   "outputs": [
    {
     "data": {
      "text/plain": [
       "1001"
      ]
     },
     "execution_count": 14,
     "metadata": {},
     "output_type": "execute_result"
    }
   ],
   "source": [
    "binary(9)"
   ]
  },
  {
   "cell_type": "markdown",
   "id": "18b9fc14",
   "metadata": {},
   "source": [
    "# Question 6\n",
    "Implement a class named HeadingParser that can be used to parse an HTMLdocument, and retrieve and print all the headings in the document. You shouldimplement your class as a subclass of HTMLParser, defined in Standard Librarymodule html.parser. When fed a string containing HTML code, your class shouldprint the headings, one per line and in the order in which they appear in thedocument. Each heading should be indented as follows: an h1 heading should have indentation 0, and h2 heading should have indentation 1, etc. Test yourimplementation using w3c.html.>>> infile = open('w3c.html')>>> content = infile.read()>>> infile.close()>>> hp = HeadingParser()>>> hp.feed(content)W3C MissionPrinciples\n",
    "Reference: https://docs.python.org/3/library/html.parser.html"
   ]
  },
  {
   "cell_type": "code",
   "execution_count": 10,
   "id": "c2290b83",
   "metadata": {},
   "outputs": [
    {
     "name": "stdout",
     "output_type": "stream",
     "text": [
      "W3C Mission\n",
      "  Principles\n"
     ]
    }
   ],
   "source": [
    "from html.parser import HTMLParser #importing htmlparser class\n",
    "\n",
    "class HeadingParser(HTMLParser):\n",
    "    \n",
    "    def __init__(self):\n",
    "        super().__init__()\n",
    "        self.inside_heading = False\n",
    "        self.current_heading_level = None\n",
    "\n",
    "    def handle_starttag(self, tag, attrs):\n",
    "        if tag.startswith('h') and tag[1:].isdigit():\n",
    "            self.inside_heading = True\n",
    "            self.current_heading_level = int(tag[1:])\n",
    "\n",
    "    def handle_endtag(self, tag):\n",
    "        if tag.startswith('h') and tag[1:].isdigit():\n",
    "            self.inside_heading = False\n",
    "            self.current_heading_level = None\n",
    "\n",
    "    def handle_data(self, data):\n",
    "        if self.inside_heading and self.current_heading_level is not None:\n",
    "            indentation = ' ' * (self.current_heading_level - 1) * 2\n",
    "            print(f\"{indentation}{data}\")\n",
    "\n",
    "with open(\"w3c.html\", 'r') as infile:\n",
    "    content = infile.read()\n",
    "\n",
    "hp = HeadingParser()\n",
    "hp.feed(content)\n",
    "    \n",
    "    "
   ]
  },
  {
   "cell_type": "markdown",
   "id": "18a9906c",
   "metadata": {},
   "source": [
    "# Question 7\n",
    "Implement recursive function webdir() that takes as input: a URL (as a string) andnon-negative integers depth and indent. Your function should visit every webpage reachable from the starting URL web page in depth clicks or less, and printeach web page's URL. As shown below, indentation, specified by indent, shouldbe used to indicate the depth of a URL.>>>webdir('http://reed.cs.depaul.edu/lperkovic/csc242/test1.html', 2, 0)http://reed.cs.depaul.edu/lperkovic/csc242/test1.htmlhttp://reed.cs.depaul.edu/lperkovic/csc242/test2.htmlhttp://reed.cs.depaul.edu/lperkovic/csc242/test4.htmlhttp://reed.cs.depaul.edu/lperkovic/csc242/test3.htmlhttp://reed.cs.depaul.edu/lperkovic/csc242/test4.htm \n",
    "Reference: https://stackoverflow.com/questions/67293733/how-to-extract-all-links-from-a-website-using-python"
   ]
  },
  {
   "cell_type": "code",
   "execution_count": 2,
   "id": "b3f8a0c7",
   "metadata": {},
   "outputs": [
    {
     "name": "stdout",
     "output_type": "stream",
     "text": [
      "http://reed.cs.depaul.edu/lperkovic/test1.html\n",
      " http://reed.cs.depaul.edu/lperkovic/test2.html\n",
      "  http://reed.cs.depaul.edu/lperkovic/test4.html\n",
      " http://reed.cs.depaul.edu/lperkovic/test3.html\n",
      "  http://reed.cs.depaul.edu/lperkovic/test4.html\n"
     ]
    }
   ],
   "source": [
    "import urllib.request\n",
    "from html.parser import HTMLParser\n",
    "\n",
    "class MyParser(HTMLParser):\n",
    "    def handle_starttag(self, tag, attrs):\n",
    "        if tag=='a':\n",
    "            for attr in attrs:\n",
    "                if attr[0]=='href':\n",
    "                    if attr[1][-4:]=='html':\n",
    "                        if attr[1][:4]=='http':\n",
    "                            webdir(attr[1],1,1)\n",
    "                        elif attr[1][:5]=='test3':\n",
    "                            url='http://reed.cs.depaul.edu/lperkovic/'+attr[1]\n",
    "                            webdir(url,0,1)\n",
    "                        else:\n",
    "                            url='http://reed.cs.depaul.edu/lperkovic/'+attr[1]\n",
    "                            webdir(url,0,2)\n",
    "\n",
    "def webdir(url,depth,indent):\n",
    "    if indent==0:\n",
    "        print(url)\n",
    "    elif indent==1:\n",
    "        print(\" \"+url)\n",
    "    elif indent==2:\n",
    "        print(\"  \"+url)\n",
    "    request = urllib.request.urlopen(url)\n",
    "    html=request.read().decode(\"utf8\")\n",
    "    parser =MyParser()\n",
    "    parser.feed(html)\n",
    "webdir('http://reed.cs.depaul.edu/lperkovic/test1.html',2,0)"
   ]
  },
  {
   "cell_type": "markdown",
   "id": "82dff088",
   "metadata": {},
   "source": [
    "# Question 8\n",
    "Write SQL queries on the below database table that return:a) All the temperature data.b) All the cities, but without repetition.c) All the records for India.d) All the Fall records\n",
    "e) The city, country, and season for which the average rainfall is between 200and 400 millimeters.f) The city and country for which the average Fall temperature is above 20degrees, in increasing temperature order.g) The total annual rainfall for Cairo.h) The total rainfall for each season."
   ]
  },
  {
   "cell_type": "code",
   "execution_count": 3,
   "id": "bdf0354c",
   "metadata": {},
   "outputs": [
    {
     "name": "stdout",
     "output_type": "stream",
     "text": [
      "Query 1: (24.8,)\n",
      "Query 1: (27.9,)\n",
      "Query 1: (27.6,)\n",
      "Query 1: (4.2,)\n",
      "Query 1: (8.3,)\n",
      "Query 1: (15.7,)\n",
      "Query 1: (10.4,)\n",
      "Query 1: (13.6,)\n",
      "Query 1: (20.7,)\n",
      "Query 2: ('Mumbai',)\n",
      "Query 2: ('London',)\n",
      "Query 2: ('Cairo',)\n",
      "Query 3: ('Mumbai', 'India', 'Fall', 27.6, 346.0)\n",
      "Query 3: ('London', 'United Kingdom', 'Fall', 10.4, 218.5)\n",
      "Query 4: ('Mumbai', 'India', 'Winter', 24.8, 5.9)\n",
      "Query 4: ('Mumbai', 'India', 'Summer', 27.9, 1549.4)\n",
      "Query 4: ('Mumbai', 'India', 'Fall', 27.6, 346.0)\n",
      "Query 5: ('Mumbai', 'India')\n",
      "Query 6: ('Mumbai', 'India', 'Fall')\n",
      "Query 6: ('London', 'United Kingdom', 'Winter')\n",
      "Query 6: ('London', 'United Kingdom', 'Fall')\n",
      "Query 6: [(23.0,)]\n",
      "Query 7: (564.5, 'Fall')\n",
      "Query 7: (176.1, 'Spring')\n",
      "Query 7: (1706.4, 'Summer')\n",
      "Query 7: (230.1, 'Winter')\n"
     ]
    }
   ],
   "source": [
    "import sqlite3\n",
    "#Creating Database\n",
    "conn = sqlite3.connect('weatherreport.db')\n",
    "cur = conn.cursor()\n",
    "#Drop the table if it exist\n",
    "cur.execute(\"DROP TABLE IF EXISTS weather;\")\n",
    "#Table creation\n",
    "cur.execute(\"CREATE TABLE weather (city TEXT, country TEXT, season TEXT, temperature float, rainfall float)\")\n",
    "#Inserting values to the table\n",
    "cur.execute(\"INSERT INTO weather VALUES('Mumbai', 'India', 'Winter', 24.8, 5.9);\")\n",
    "cur.execute(\"INSERT INTO weather VALUES('Mumbai', 'India', 'Summer', 27.9, 1549.4);\")\n",
    "cur.execute(\"INSERT INTO weather VALUES('Mumbai', 'India', 'Fall', 27.6, 346.0);\")\n",
    "cur.execute(\"INSERT INTO weather VALUES('London', 'United Kingdom', 'Winter', 4.2, 207.7);\")\n",
    "cur.execute(\"INSERT INTO weather VALUES('London', 'United Kingdom', 'Spring', 8.3, 169.6);\")\n",
    "cur.execute(\"INSERT INTO weather VALUES('London', 'United Kingdom', 'Summer', 15.7, 157.0);\")\n",
    "cur.execute(\"INSERT INTO weather VALUES('London', 'United Kingdom', 'Fall', 10.4, 218.5);\")\n",
    "cur.execute(\"INSERT INTO weather VALUES('Cairo', 'Egypt', 'Winter', 13.6, 16.5);\")\n",
    "cur.execute(\"INSERT INTO weather VALUES('Cairo', 'Egypt', 'Spring', 20.7, 6.5);\")\n",
    "\n",
    "conn.commit()\n",
    "\n",
    "\n",
    "# Query 1\n",
    "cur.execute('SELECT temperature FROM weather')\n",
    "for record in cur:\n",
    "    print(\"Query 1:\",record)\n",
    "# Query 2\n",
    "\n",
    "cur.execute('SELECT DISTINCT city FROM weather')\n",
    "for record in cur:\n",
    "    print(\"Query 2:\",record)\n",
    "    # Query 3\n",
    "cur.execute('SELECT * FROM weather WHERE season = \"Fall\"')\n",
    "for record in cur:\n",
    "    print(\"Query 3:\",record)\n",
    "\n",
    "# Query 4\n",
    "cur.execute('SELECT * FROM weather WHERE country = \"India\"')\n",
    "for record in cur:\n",
    "    print(\"Query 4:\",record)\n",
    "\n",
    "# Query 5\n",
    "cur.execute('SELECT city, country FROM weather WHERE (season = \"Fall\") AND (temperature > 20) ORDER BY temperature DESC')\n",
    "for record in cur:\n",
    "    print(\"Query 5:\",record)\n",
    "\n",
    "# Query 6\n",
    "cur.execute('SELECT city, country, season FROM weather WHERE (rainfall > 200) AND (rainfall < 400)')\n",
    "for record in cur:\n",
    "    print(\"Query 6:\",record)\n",
    "\n",
    "# Query 7\n",
    "cur.execute('SELECT SUM(rainfall) FROM weather WHERE city = \"Cairo\"')\n",
    "Annual_rainfall = cur.fetchall()\n",
    "print(\"Query 6:\",Annual_rainfall)\n",
    "\n",
    "# Query 8\n",
    "cur.execute('SELECT SUM(rainfall), season FROM weather GROUP BY season')\n",
    "for record in cur:\n",
    "    print(\"Query 7:\",record)\n",
    "\n",
    "conn.close()"
   ]
  },
  {
   "cell_type": "markdown",
   "id": "6fc47955",
   "metadata": {},
   "source": [
    "# Question 9. \n",
    "Suppose list words is defined as follows:>>> words = ['The', 'quick', 'brown', 'fox', 'jumps', 'over','the', 'lazy', 'dog']Write list comprehension expressions that use list words and generate the followinglists:a) ['THE', 'QUICK', 'BROWN', 'FOX', 'JUMPS', 'OVER', 'THE','LAZY', 'DOG']b) ['the', 'quick', 'brown', 'fox', 'jumps', 'over', 'the','lazy', 'dog']c) [3, 5, 5, 3, 5, 4, 3, 4, 3] (the list of lengths of words in listwords).d) [['THE', 'the', 3], ['QUICK', 'quick', 5], ['BROWN','brown', 5], ['FOX', 'fox', 3], ['JUMPS', 'jumps', 5],['OVER', 'over', 4], ['THE', 'the', 3], ['LAZY', 'lazy',4], ['DOG', 'dog', 3]] (the list containing a list for every word of listwords, where each list contains the word in uppercase and lowercase and thelength of the word.)e) ['The', 'quick', 'brown', 'fox', 'jumps', 'over', 'the','lazy', 'dog'] (the list of words in list words containing 4 or morecharacters.)\n"
   ]
  },
  {
   "cell_type": "code",
   "execution_count": 1,
   "id": "0c3ad295",
   "metadata": {},
   "outputs": [
    {
     "name": "stdout",
     "output_type": "stream",
     "text": [
      "['THE', 'QUICK', 'BROWN', 'FOX', 'JUMPS', 'OVER', 'THE', 'LAZY', 'DOG']\n"
     ]
    }
   ],
   "source": [
    "words = ['The', 'quick', 'brown', 'fox', 'jumps', 'over', 'the', 'lazy', 'dog']\n",
    "words_upper=[]\n",
    "for word in words:\n",
    "    words_upper.append(word.upper())\n",
    "print(words_upper)"
   ]
  },
  {
   "cell_type": "code",
   "execution_count": 3,
   "id": "31e5c8d4",
   "metadata": {},
   "outputs": [
    {
     "name": "stdout",
     "output_type": "stream",
     "text": [
      "['the', 'quick', 'brown', 'fox', 'jumps', 'over', 'the', 'lazy', 'dog']\n"
     ]
    }
   ],
   "source": [
    "words_lower=[]\n",
    "for word in words:\n",
    "    words_lower.append(word.lower())\n",
    "print(words_lower)"
   ]
  },
  {
   "cell_type": "code",
   "execution_count": 4,
   "id": "958be140",
   "metadata": {},
   "outputs": [
    {
     "name": "stdout",
     "output_type": "stream",
     "text": [
      "[3, 5, 5, 3, 5, 4, 3, 4, 3]\n"
     ]
    }
   ],
   "source": [
    "words_length=[]\n",
    "for word in words:\n",
    "    words_length.append(len(word))\n",
    "print(words_length)"
   ]
  },
  {
   "cell_type": "code",
   "execution_count": 5,
   "id": "92b1353e",
   "metadata": {},
   "outputs": [
    {
     "name": "stdout",
     "output_type": "stream",
     "text": [
      "['THE', 'the', 3, 'QUICK', 'quick', 5, 'BROWN', 'brown', 5, 'FOX', 'fox', 3, 'JUMPS', 'jumps', 5, 'OVER', 'over', 4, 'THE', 'the', 3, 'LAZY', 'lazy', 4, 'DOG', 'dog', 3]\n"
     ]
    }
   ],
   "source": [
    "word_upper_and_length=[]\n",
    "for word in words:\n",
    "    word_upper_and_length.append(word.upper())\n",
    "    word_upper_and_length.append(word.lower())\n",
    "    word_upper_and_length.append(len(word))\n",
    "print(word_upper_and_length)"
   ]
  },
  {
   "cell_type": "code",
   "execution_count": 6,
   "id": "09729b72",
   "metadata": {},
   "outputs": [
    {
     "name": "stdout",
     "output_type": "stream",
     "text": [
      "['quick', 'brown', 'jumps', 'over', 'lazy']\n"
     ]
    }
   ],
   "source": [
    "words_with_limited_length=[]\n",
    "\n",
    "for word in words:\n",
    "    if len(word)>=4:\n",
    "        words_with_limited_length.append(word.lower())\n",
    "print(words_with_limited_length)"
   ]
  },
  {
   "cell_type": "code",
   "execution_count": null,
   "id": "3442c452",
   "metadata": {},
   "outputs": [],
   "source": []
  }
 ],
 "metadata": {
  "kernelspec": {
   "display_name": "Python 3 (ipykernel)",
   "language": "python",
   "name": "python3"
  },
  "language_info": {
   "codemirror_mode": {
    "name": "ipython",
    "version": 3
   },
   "file_extension": ".py",
   "mimetype": "text/x-python",
   "name": "python",
   "nbconvert_exporter": "python",
   "pygments_lexer": "ipython3",
   "version": "3.11.4"
  }
 },
 "nbformat": 4,
 "nbformat_minor": 5
}
